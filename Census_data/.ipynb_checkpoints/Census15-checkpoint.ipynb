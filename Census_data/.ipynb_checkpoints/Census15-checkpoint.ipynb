{
 "cells": [
  {
   "cell_type": "markdown",
   "metadata": {},
   "source": [
    "## Census data\n"
   ]
  },
  {
   "cell_type": "code",
   "execution_count": 9,
   "metadata": {},
   "outputs": [
    {
     "name": "stdout",
     "output_type": "stream",
     "text": [
      "Requirement already satisfied: Census in /anaconda3/lib/python3.7/site-packages (0.8.13)\n",
      "Requirement already satisfied: future in /anaconda3/lib/python3.7/site-packages (from Census) (0.17.1)\n",
      "Requirement already satisfied: requests>=1.1.0 in /anaconda3/lib/python3.7/site-packages (from Census) (2.22.0)\n",
      "Requirement already satisfied: certifi>=2017.4.17 in /anaconda3/lib/python3.7/site-packages (from requests>=1.1.0->Census) (2019.9.11)\n",
      "Requirement already satisfied: urllib3!=1.25.0,!=1.25.1,<1.26,>=1.21.1 in /anaconda3/lib/python3.7/site-packages (from requests>=1.1.0->Census) (1.24.2)\n",
      "Requirement already satisfied: chardet<3.1.0,>=3.0.2 in /anaconda3/lib/python3.7/site-packages (from requests>=1.1.0->Census) (3.0.4)\n",
      "Requirement already satisfied: idna<2.9,>=2.5 in /anaconda3/lib/python3.7/site-packages (from requests>=1.1.0->Census) (2.8)\n",
      "Note: you may need to restart the kernel to use updated packages.\n"
     ]
    }
   ],
   "source": [
    "pip install Census"
   ]
  },
  {
   "cell_type": "code",
   "execution_count": 1,
   "metadata": {},
   "outputs": [],
   "source": [
    "# Dependencies\n",
    "import numpy as np\n",
    "import pandas as pd\n",
    "import matplotlib.pyplot as plt\n",
    "import requests\n",
    "from census import Census\n",
    "import gmaps\n",
    "\n",
    "# Census & gmaps API Keys\n",
    "from config import (api_key, gkey)\n",
    "c = Census(api_key, year=2015)\n",
    "\n",
    "# Configure gmaps\n",
    "gmaps.configure(api_key=gkey)"
   ]
  },
  {
   "cell_type": "code",
   "execution_count": 3,
   "metadata": {},
   "outputs": [],
   "source": [
    "# Note the addition of \"B23025_005E\" for unemployment count\n",
    "census15_data = c.acs5.get((\"NAME\", \"B19013_001E\", \"B01003_001E\", \"B01002_001E\",\n",
    "                          \"B19301_001E\",\n",
    "                          \"B17001_002E\",\n",
    "                          \"B23025_005E\"), {'for': 'state:*'})\n",
    "\n",
    "# Convert to DataFrame\n",
    "census15_pd = pd.DataFrame(census15_data)\n",
    "\n",
    "# Column Reordering\n",
    "census15_pd = census15_pd.rename(columns={\"B01003_001E\": \"Population\",\n",
    "                                      \"B01002_001E\": \"Median Age\",\n",
    "                                      \"B19013_001E\": \"Household Income\",\n",
    "                                      \"B19301_001E\": \"Per Capita Income\",\n",
    "                                      \"B17001_002E\": \"Poverty Count\",\n",
    "                                      \"B23025_005E\": \"Unemployment Count\",\n",
    "                                      \"NAME\": \"Name\", \"state\": \"State\"})\n",
    "\n",
    "# Add in Poverty Rate (Poverty Count / Population)\n",
    "census15_pd[\"Poverty Rate\"] = 100 * \\\n",
    "    census15_pd[\"Poverty Count\"].astype(\n",
    "        int) / census15_pd[\"Population\"].astype(int)\n",
    "\n",
    "# Add in Employment Rate (Employment Count / Population)\n",
    "census15_pd[\"Unemployment Rate\"] = 100 * \\\n",
    "    census15_pd[\"Unemployment Count\"].astype(\n",
    "        int) / census15_pd[\"Population\"].astype(int)\n",
    "\n",
    "# Final DataFrame\n",
    "census15_pd = census15_pd[[\"State\", \"Name\", \"Population\", \"Median Age\", \"Household Income\",\n",
    "                       \"Per Capita Income\", \"Poverty Count\", \"Poverty Rate\", \"Unemployment Rate\"]]\n",
    "\n",
    "census15_pd.to_csv(\"Census_data2015\",header = True, index = False)"
   ]
  },
  {
   "cell_type": "code",
   "execution_count": null,
   "metadata": {},
   "outputs": [],
   "source": []
  }
 ],
 "metadata": {
  "kernelspec": {
   "display_name": "Python 3",
   "language": "python",
   "name": "python3"
  },
  "language_info": {
   "codemirror_mode": {
    "name": "ipython",
    "version": 3
   },
   "file_extension": ".py",
   "mimetype": "text/x-python",
   "name": "python",
   "nbconvert_exporter": "python",
   "pygments_lexer": "ipython3",
   "version": "3.6.8"
  }
 },
 "nbformat": 4,
 "nbformat_minor": 2
}
